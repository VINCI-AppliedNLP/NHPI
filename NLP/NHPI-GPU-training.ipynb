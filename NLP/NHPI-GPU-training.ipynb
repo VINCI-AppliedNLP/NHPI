{
 "cells": [
  {
   "cell_type": "code",
   "execution_count": 1,
   "id": "fa5616d4",
   "metadata": {},
   "outputs": [],
   "source": [
    "from pyspark.sql import SparkSession\n",
    "import pyspark.sql.functions as F\n",
    "from pyspark.sql.window import Window\n",
    "import os, re\n",
    "from time import ctime\n",
    "import time,json\n",
    "import pandas as pd\n",
    "from pyspark.sql.types import ArrayType,IntegerType,FloatType,StringType,StructType,StructField\n",
    "from sklearn.model_selection import train_test_split\n",
    "from simpletransformers.classification import ClassificationModel, ClassificationArgs\n",
    "from sklearn.metrics import classification_report\n",
    "os.environ['PROTOCOL_BUFFERS_PYTHON_IMPLEMENTATION'] = 'python'\n",
    "os.environ['WANDB_DISABLED'] = 'true'"
   ]
  },
  {
   "cell_type": "markdown",
   "id": "fdf8f5a0",
   "metadata": {},
   "source": [
    "## Trainning an initial model"
   ]
  },
  {
   "cell_type": "code",
   "execution_count": null,
   "id": "48dbfde1-df0e-4b7c-9f5e-a9368576ea96",
   "metadata": {},
   "outputs": [],
   "source": [
    "data = pd.read_csv()"
   ]
  },
  {
   "cell_type": "code",
   "execution_count": null,
   "id": "315abe35-7061-4eed-98d9-0843a37fbf85",
   "metadata": {},
   "outputs": [],
   "source": [
    "labels = {'All other language': 0,\n",
    " 'Other person': 0,\n",
    " 'Patient': 1,\n",
    " 'Direct ancestor': 2,\n",
    " 'Other(Deployment/Travel/etc.)': 0,\n",
    " 'Other irrelevant': 0,\n",
    " 'Cannot attribute Race/Ethnicity': 0,\n",
    " 'Patient native speaker': 3,\n",
    " 'Name': 0,\n",
    " 'Patient lived or lives': 4,\n",
    " 'Patient_negated': 5,\n",
    " 'Patient was born/from': 6,\n",
    " 'Patient speaks': 7,\n",
    " 'Family member speaks': 0}"
   ]
  },
  {
   "cell_type": "code",
   "execution_count": null,
   "id": "4c39c4a1-05ac-4dbd-92fd-215bb3bcba0f",
   "metadata": {},
   "outputs": [],
   "source": [
    "data['labels'] = data['Adjudication'].map(labels)"
   ]
  },
  {
   "cell_type": "code",
   "execution_count": 15,
   "id": "781ad843-a067-43fb-b452-2277968d451e",
   "metadata": {},
   "outputs": [],
   "source": [
    "train, interm = train_test_split(data.sample(frac=1), train_size = 0.60,  random_state=1234 ,shuffle=True)\n",
    "valid, test = train_test_split(interm.sample(frac=1), train_size = 0.50,  random_state=1234 ,shuffle=True)\n",
    "train.shape,interm.shape,valid.shape,test.shape"
   ]
  },
  {
   "cell_type": "code",
   "execution_count": 10,
   "id": "e14983a9-7f8b-436e-9cea-a57183127575",
   "metadata": {},
   "outputs": [],
   "source": [
    "id2label = {v:k for k,v in labels.items()}"
   ]
  },
  {
   "cell_type": "code",
   "execution_count": null,
   "id": "a0e17298-ffae-43a8-9768-f29fdafbb7bc",
   "metadata": {},
   "outputs": [],
   "source": [
    "model_args = {\n",
    "    \"num_train_epochs\": 50,\n",
    "    \"learning_rate\": 1e-5,\n",
    "    \"do_lower_case\":False,\n",
    "    \"max_seq_length\": 256,\n",
    "    \"use_early_stopping\":True,\n",
    "    \"evaluate_during_training\":True,\n",
    "    \"early_stopping_consider_epochs\":True,\n",
    "    \"early_stopping_patience\":3,\n",
    "    \"output_dir\":'output/',\n",
    "    \"use_cuda\":True,\n",
    "    \"overwrite_output_dir\":True,\n",
    "    \"save_eval_checkpoints\":False,\n",
    "    \"save_model_every_epoch\":False,\n",
    "    \"save_steps\":False,\n",
    "    \"special_tokens_list\":['[TERM]','[/TERM]']\n",
    "   \n",
    "}\n",
    "\n",
    "# Create a ClassificationModel\n",
    "model = ClassificationModel(\n",
    "    'bert',\n",
    "    'models/va_cased/',\n",
    "    num_labels=8,\n",
    "    args=model_args,\n",
    "    use_cuda=True,\n",
    "    weight=[1,6,4,4,4,3,4,3]\n",
    ") \n",
    "model.train_model(train,eval_df =valid)"
   ]
  },
  {
   "cell_type": "code",
   "execution_count": null,
   "id": "1ef834f7-1c1e-4f8e-ad84-bbd8fbe008e2",
   "metadata": {},
   "outputs": [],
   "source": []
  },
  {
   "cell_type": "markdown",
   "id": "e9bd19ff-2948-4155-8dbb-1ccb8bfba7fb",
   "metadata": {},
   "source": [
    "### Evaluate on test"
   ]
  },
  {
   "cell_type": "code",
   "execution_count": null,
   "id": "b1fb3022",
   "metadata": {},
   "outputs": [],
   "source": [
    "preds, _ = model.predict(test['text'].to_list())\n",
    "print(classification_report(test['labels'],preds))"
   ]
  },
  {
   "cell_type": "raw",
   "id": "66ba2c43-e35c-4b49-a312-d2c9f55f495b",
   "metadata": {},
   "source": [
    "              precision    recall  f1-score   support\n",
    "\n",
    "           0       0.96      0.98      0.97        91\n",
    "           1       0.95      0.92      0.93        62\n",
    "           2       0.56      0.71      0.63         7\n",
    "           3       1.00      1.00      1.00         4\n",
    "           4       0.75      0.50      0.60         6\n",
    "           5       0.00      0.00      0.00         2\n",
    "           6       0.80      1.00      0.89         8\n",
    "           7       0.67      0.67      0.67         3\n",
    "\n",
    "    accuracy                           0.92       183\n",
    "   macro avg       0.71      0.72      0.71       183\n",
    "weighted avg       0.91      0.92      0.91       183"
   ]
  },
  {
   "cell_type": "code",
   "execution_count": null,
   "id": "50cdf333-1a46-419b-92b2-ce469d0cd118",
   "metadata": {},
   "outputs": [],
   "source": []
  },
  {
   "cell_type": "markdown",
   "id": "0c114aa5-42ea-4caf-9bb0-3f7620b140b4",
   "metadata": {},
   "source": [
    "## Final training"
   ]
  },
  {
   "cell_type": "code",
   "execution_count": 189,
   "id": "e7163f69-e5e7-49f9-bac1-5fd59d7fd913",
   "metadata": {},
   "outputs": [
    {
     "name": "stderr",
     "output_type": "stream",
     "text": [
      "Some weights of BertForSequenceClassification were not initialized from the model checkpoint at models/va_cased/ and are newly initialized: ['bert.pooler.dense.bias', 'bert.pooler.dense.weight', 'classifier.bias', 'classifier.weight']\n",
      "You should probably TRAIN this model on a down-stream task to be able to use it for predictions and inference.\n"
     ]
    }
   ],
   "source": [
    "model_args = {\n",
    "    \"num_train_epochs\": 50,\n",
    "    \"learning_rate\": 6e-6,\n",
    "    \"do_lower_case\":False,\n",
    "    \"max_seq_length\": 256,\n",
    "    \"use_early_stopping\":True,\n",
    "    \"train_batch_size\":32,\n",
    "    \"evaluate_during_training\":True,\n",
    "    \"early_stopping_consider_epochs\":True,\n",
    "    \"early_stopping_patience\":5,\n",
    "    \"output_dir\":'output',\n",
    "    \"use_cuda\":True,\n",
    "    \"overwrite_output_dir\":True,\n",
    "    \"save_eval_checkpoints\":False,\n",
    "    \"save_model_every_epoch\":False,\n",
    "    \"save_steps\":False,\n",
    "    \"special_tokens_list\":['[TERM]','[/TERM]']\n",
    "   \n",
    "}\n",
    "\n",
    "\n",
    "# Create a ClassificationModel\n",
    "model = ClassificationModel(\n",
    "    'bert',\n",
    "    'models/va_cased/',\n",
    "    num_labels=8,\n",
    "    args=model_args,\n",
    "    use_cuda=True,\n",
    "    weight=[1,6,6,6,4,2,2,2]\n",
    ") \n",
    "\n",
    "model.train_model(train,eval_df =valid)"
   ]
  },
  {
   "cell_type": "code",
   "execution_count": null,
   "id": "981f995f-e2e2-4c46-b224-dc2ec891beb9",
   "metadata": {},
   "outputs": [],
   "source": [
    "preds, _ = model.predict(df_test['text'].to_list())\n",
    "print(classification_report(df_test['labels'],preds))"
   ]
  },
  {
   "cell_type": "code",
   "execution_count": null,
   "id": "a9191c38-4e95-4f3e-bf34-9c1d61fc74c6",
   "metadata": {},
   "outputs": [],
   "source": [
    "           0       0.98      0.94      0.96       760\n",
    "           1       0.98      0.99      0.98       865\n",
    "           2       0.83      0.67      0.74        15\n",
    "           3       0.88      0.88      0.88         8\n",
    "           4       0.35      0.70      0.47        30\n",
    "           5       0.00      0.00      0.00         4\n",
    "           6       0.73      0.71      0.72        34\n",
    "           7       1.00      0.67      0.80         3\n",
    "\n",
    "    accuracy                           0.95      1719\n",
    "   macro avg       0.72      0.69      0.69      1719\n",
    "weighted avg       0.96      0.95      0.95      1719"
   ]
  },
  {
   "cell_type": "code",
   "execution_count": null,
   "id": "20ad797d-20a9-42fa-9f26-4b6f882041c4",
   "metadata": {},
   "outputs": [],
   "source": []
  }
 ],
 "metadata": {
  "kernelspec": {
   "display_name": "Python 3 (ipykernel)",
   "language": "python",
   "name": "python3"
  },
  "language_info": {
   "codemirror_mode": {
    "name": "ipython",
    "version": 3
   },
   "file_extension": ".py",
   "mimetype": "text/x-python",
   "name": "python",
   "nbconvert_exporter": "python",
   "pygments_lexer": "ipython3",
   "version": "3.8.19"
  }
 },
 "nbformat": 4,
 "nbformat_minor": 5
}
